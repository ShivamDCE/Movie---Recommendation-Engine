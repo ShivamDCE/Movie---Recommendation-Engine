{
 "cells": [
  {
   "cell_type": "code",
   "execution_count": 70,
   "metadata": {},
   "outputs": [],
   "source": [
    "import pandas as pd\n",
    "import numpy as np"
   ]
  },
  {
   "cell_type": "code",
   "execution_count": 159,
   "metadata": {},
   "outputs": [],
   "source": [
    "data_dict={'Users':['1','2','3','4','5','6'],\n",
    "           'action1':[4.0,5.0,1.0,0.0,1.0,5.0],\n",
    "           'action2':[5.0,3.0,0.0,2.0,0.0,1.0],\n",
    "           'action3':[3.0,3.0,0.0,1.0,2.0,1.0],\n",
    "           'romantic1':[0.0,2.0,4.0,4.0,3.0,2.0],\n",
    "           'romantic2':[2.0,2.0,5.0,0.0,3.0,5.0],\n",
    "           'romantic3':[1.0,0.0,4.0,3.0,4.0,0.0]\n",
    "          }"
   ]
  },
  {
   "cell_type": "code",
   "execution_count": 160,
   "metadata": {},
   "outputs": [],
   "source": [
    "data=pd.DataFrame(data_dict)"
   ]
  },
  {
   "cell_type": "code",
   "execution_count": 161,
   "metadata": {},
   "outputs": [],
   "source": [
    "data=data.set_index('Users')"
   ]
  },
  {
   "cell_type": "code",
   "execution_count": 162,
   "metadata": {},
   "outputs": [],
   "source": [
    "data=data"
   ]
  },
  {
   "cell_type": "code",
   "execution_count": 163,
   "metadata": {},
   "outputs": [
    {
     "data": {
      "text/html": [
       "<div>\n",
       "<style scoped>\n",
       "    .dataframe tbody tr th:only-of-type {\n",
       "        vertical-align: middle;\n",
       "    }\n",
       "\n",
       "    .dataframe tbody tr th {\n",
       "        vertical-align: top;\n",
       "    }\n",
       "\n",
       "    .dataframe thead th {\n",
       "        text-align: right;\n",
       "    }\n",
       "</style>\n",
       "<table border=\"1\" class=\"dataframe\">\n",
       "  <thead>\n",
       "    <tr style=\"text-align: right;\">\n",
       "      <th></th>\n",
       "      <th>action1</th>\n",
       "      <th>action2</th>\n",
       "      <th>action3</th>\n",
       "      <th>romantic1</th>\n",
       "      <th>romantic2</th>\n",
       "      <th>romantic3</th>\n",
       "    </tr>\n",
       "    <tr>\n",
       "      <th>Users</th>\n",
       "      <th></th>\n",
       "      <th></th>\n",
       "      <th></th>\n",
       "      <th></th>\n",
       "      <th></th>\n",
       "      <th></th>\n",
       "    </tr>\n",
       "  </thead>\n",
       "  <tbody>\n",
       "    <tr>\n",
       "      <td>1</td>\n",
       "      <td>4.0</td>\n",
       "      <td>5.0</td>\n",
       "      <td>3.0</td>\n",
       "      <td>0.0</td>\n",
       "      <td>2.0</td>\n",
       "      <td>1.0</td>\n",
       "    </tr>\n",
       "    <tr>\n",
       "      <td>2</td>\n",
       "      <td>5.0</td>\n",
       "      <td>3.0</td>\n",
       "      <td>3.0</td>\n",
       "      <td>2.0</td>\n",
       "      <td>2.0</td>\n",
       "      <td>0.0</td>\n",
       "    </tr>\n",
       "    <tr>\n",
       "      <td>3</td>\n",
       "      <td>1.0</td>\n",
       "      <td>0.0</td>\n",
       "      <td>0.0</td>\n",
       "      <td>4.0</td>\n",
       "      <td>5.0</td>\n",
       "      <td>4.0</td>\n",
       "    </tr>\n",
       "    <tr>\n",
       "      <td>4</td>\n",
       "      <td>0.0</td>\n",
       "      <td>2.0</td>\n",
       "      <td>1.0</td>\n",
       "      <td>4.0</td>\n",
       "      <td>0.0</td>\n",
       "      <td>3.0</td>\n",
       "    </tr>\n",
       "    <tr>\n",
       "      <td>5</td>\n",
       "      <td>1.0</td>\n",
       "      <td>0.0</td>\n",
       "      <td>2.0</td>\n",
       "      <td>3.0</td>\n",
       "      <td>3.0</td>\n",
       "      <td>4.0</td>\n",
       "    </tr>\n",
       "    <tr>\n",
       "      <td>6</td>\n",
       "      <td>5.0</td>\n",
       "      <td>1.0</td>\n",
       "      <td>1.0</td>\n",
       "      <td>2.0</td>\n",
       "      <td>5.0</td>\n",
       "      <td>0.0</td>\n",
       "    </tr>\n",
       "  </tbody>\n",
       "</table>\n",
       "</div>"
      ],
      "text/plain": [
       "       action1  action2  action3  romantic1  romantic2  romantic3\n",
       "Users                                                            \n",
       "1          4.0      5.0      3.0        0.0        2.0        1.0\n",
       "2          5.0      3.0      3.0        2.0        2.0        0.0\n",
       "3          1.0      0.0      0.0        4.0        5.0        4.0\n",
       "4          0.0      2.0      1.0        4.0        0.0        3.0\n",
       "5          1.0      0.0      2.0        3.0        3.0        4.0\n",
       "6          5.0      1.0      1.0        2.0        5.0        0.0"
      ]
     },
     "execution_count": 163,
     "metadata": {},
     "output_type": "execute_result"
    }
   ],
   "source": [
    "data"
   ]
  },
  {
   "cell_type": "code",
   "execution_count": 164,
   "metadata": {},
   "outputs": [],
   "source": [
    "def standardize(row):\n",
    "    return (row-row.mean()/row.max()-row.min())\n",
    "    \n",
    "data=data.apply(standardize,axis=1).T"
   ]
  },
  {
   "cell_type": "code",
   "execution_count": 165,
   "metadata": {},
   "outputs": [
    {
     "data": {
      "text/html": [
       "<div>\n",
       "<style scoped>\n",
       "    .dataframe tbody tr th:only-of-type {\n",
       "        vertical-align: middle;\n",
       "    }\n",
       "\n",
       "    .dataframe tbody tr th {\n",
       "        vertical-align: top;\n",
       "    }\n",
       "\n",
       "    .dataframe thead th {\n",
       "        text-align: right;\n",
       "    }\n",
       "</style>\n",
       "<table border=\"1\" class=\"dataframe\">\n",
       "  <thead>\n",
       "    <tr style=\"text-align: right;\">\n",
       "      <th>Users</th>\n",
       "      <th>1</th>\n",
       "      <th>2</th>\n",
       "      <th>3</th>\n",
       "      <th>4</th>\n",
       "      <th>5</th>\n",
       "      <th>6</th>\n",
       "    </tr>\n",
       "  </thead>\n",
       "  <tbody>\n",
       "    <tr>\n",
       "      <td>action1</td>\n",
       "      <td>3.5</td>\n",
       "      <td>4.5</td>\n",
       "      <td>0.533333</td>\n",
       "      <td>-0.416667</td>\n",
       "      <td>0.458333</td>\n",
       "      <td>4.533333</td>\n",
       "    </tr>\n",
       "    <tr>\n",
       "      <td>action2</td>\n",
       "      <td>4.5</td>\n",
       "      <td>2.5</td>\n",
       "      <td>-0.466667</td>\n",
       "      <td>1.583333</td>\n",
       "      <td>-0.541667</td>\n",
       "      <td>0.533333</td>\n",
       "    </tr>\n",
       "    <tr>\n",
       "      <td>action3</td>\n",
       "      <td>2.5</td>\n",
       "      <td>2.5</td>\n",
       "      <td>-0.466667</td>\n",
       "      <td>0.583333</td>\n",
       "      <td>1.458333</td>\n",
       "      <td>0.533333</td>\n",
       "    </tr>\n",
       "    <tr>\n",
       "      <td>romantic1</td>\n",
       "      <td>-0.5</td>\n",
       "      <td>1.5</td>\n",
       "      <td>3.533333</td>\n",
       "      <td>3.583333</td>\n",
       "      <td>2.458333</td>\n",
       "      <td>1.533333</td>\n",
       "    </tr>\n",
       "    <tr>\n",
       "      <td>romantic2</td>\n",
       "      <td>1.5</td>\n",
       "      <td>1.5</td>\n",
       "      <td>4.533333</td>\n",
       "      <td>-0.416667</td>\n",
       "      <td>2.458333</td>\n",
       "      <td>4.533333</td>\n",
       "    </tr>\n",
       "    <tr>\n",
       "      <td>romantic3</td>\n",
       "      <td>0.5</td>\n",
       "      <td>-0.5</td>\n",
       "      <td>3.533333</td>\n",
       "      <td>2.583333</td>\n",
       "      <td>3.458333</td>\n",
       "      <td>-0.466667</td>\n",
       "    </tr>\n",
       "  </tbody>\n",
       "</table>\n",
       "</div>"
      ],
      "text/plain": [
       "Users        1    2         3         4         5         6\n",
       "action1    3.5  4.5  0.533333 -0.416667  0.458333  4.533333\n",
       "action2    4.5  2.5 -0.466667  1.583333 -0.541667  0.533333\n",
       "action3    2.5  2.5 -0.466667  0.583333  1.458333  0.533333\n",
       "romantic1 -0.5  1.5  3.533333  3.583333  2.458333  1.533333\n",
       "romantic2  1.5  1.5  4.533333 -0.416667  2.458333  4.533333\n",
       "romantic3  0.5 -0.5  3.533333  2.583333  3.458333 -0.466667"
      ]
     },
     "execution_count": 165,
     "metadata": {},
     "output_type": "execute_result"
    }
   ],
   "source": [
    "data"
   ]
  },
  {
   "cell_type": "code",
   "execution_count": 166,
   "metadata": {},
   "outputs": [
    {
     "data": {
      "text/plain": [
       "Index(['action1', 'action2', 'action3', 'romantic1', 'romantic2', 'romantic3'], dtype='object')"
      ]
     },
     "execution_count": 166,
     "metadata": {},
     "output_type": "execute_result"
    }
   ],
   "source": [
    "data.index"
   ]
  },
  {
   "cell_type": "code",
   "execution_count": 167,
   "metadata": {},
   "outputs": [],
   "source": [
    "from scipy import sparse\n",
    "sparse_df = sparse.csr_matrix(data)"
   ]
  },
  {
   "cell_type": "code",
   "execution_count": 168,
   "metadata": {},
   "outputs": [
    {
     "data": {
      "text/plain": [
       "array([[ 3.5       ,  4.5       ,  0.53333333, -0.41666667,  0.45833333,\n",
       "         4.53333333],\n",
       "       [ 4.5       ,  2.5       , -0.46666667,  1.58333333, -0.54166667,\n",
       "         0.53333333],\n",
       "       [ 2.5       ,  2.5       , -0.46666667,  0.58333333,  1.45833333,\n",
       "         0.53333333],\n",
       "       [-0.5       ,  1.5       ,  3.53333333,  3.58333333,  2.45833333,\n",
       "         1.53333333],\n",
       "       [ 1.5       ,  1.5       ,  4.53333333, -0.41666667,  2.45833333,\n",
       "         4.53333333],\n",
       "       [ 0.5       , -0.5       ,  3.53333333,  2.58333333,  3.45833333,\n",
       "        -0.46666667]])"
      ]
     },
     "execution_count": 168,
     "metadata": {},
     "output_type": "execute_result"
    }
   ],
   "source": [
    "sparse_df.toarray()"
   ]
  },
  {
   "cell_type": "code",
   "execution_count": 169,
   "metadata": {},
   "outputs": [],
   "source": [
    "from sklearn.metrics.pairwise import cosine_similarity\n",
    "corrMatrix=pd.DataFrame(cosine_similarity(sparse_df))"
   ]
  },
  {
   "cell_type": "code",
   "execution_count": 170,
   "metadata": {},
   "outputs": [
    {
     "data": {
      "text/html": [
       "<div>\n",
       "<style scoped>\n",
       "    .dataframe tbody tr th:only-of-type {\n",
       "        vertical-align: middle;\n",
       "    }\n",
       "\n",
       "    .dataframe tbody tr th {\n",
       "        vertical-align: top;\n",
       "    }\n",
       "\n",
       "    .dataframe thead th {\n",
       "        text-align: right;\n",
       "    }\n",
       "</style>\n",
       "<table border=\"1\" class=\"dataframe\">\n",
       "  <thead>\n",
       "    <tr style=\"text-align: right;\">\n",
       "      <th></th>\n",
       "      <th>0</th>\n",
       "      <th>1</th>\n",
       "      <th>2</th>\n",
       "      <th>3</th>\n",
       "      <th>4</th>\n",
       "      <th>5</th>\n",
       "    </tr>\n",
       "  </thead>\n",
       "  <tbody>\n",
       "    <tr>\n",
       "      <td>0</td>\n",
       "      <td>1.000000</td>\n",
       "      <td>0.706308</td>\n",
       "      <td>0.783787</td>\n",
       "      <td>0.305357</td>\n",
       "      <td>0.687429</td>\n",
       "      <td>-0.005379</td>\n",
       "    </tr>\n",
       "    <tr>\n",
       "      <td>1</td>\n",
       "      <td>0.706308</td>\n",
       "      <td>1.000000</td>\n",
       "      <td>0.844652</td>\n",
       "      <td>0.152517</td>\n",
       "      <td>0.224206</td>\n",
       "      <td>0.042829</td>\n",
       "    </tr>\n",
       "    <tr>\n",
       "      <td>2</td>\n",
       "      <td>0.783787</td>\n",
       "      <td>0.844652</td>\n",
       "      <td>1.000000</td>\n",
       "      <td>0.310272</td>\n",
       "      <td>0.393614</td>\n",
       "      <td>0.209652</td>\n",
       "    </tr>\n",
       "    <tr>\n",
       "      <td>3</td>\n",
       "      <td>0.305357</td>\n",
       "      <td>0.152517</td>\n",
       "      <td>0.310272</td>\n",
       "      <td>1.000000</td>\n",
       "      <td>0.669840</td>\n",
       "      <td>0.840111</td>\n",
       "    </tr>\n",
       "    <tr>\n",
       "      <td>4</td>\n",
       "      <td>0.687429</td>\n",
       "      <td>0.224206</td>\n",
       "      <td>0.393614</td>\n",
       "      <td>0.669840</td>\n",
       "      <td>1.000000</td>\n",
       "      <td>0.525094</td>\n",
       "    </tr>\n",
       "    <tr>\n",
       "      <td>5</td>\n",
       "      <td>-0.005379</td>\n",
       "      <td>0.042829</td>\n",
       "      <td>0.209652</td>\n",
       "      <td>0.840111</td>\n",
       "      <td>0.525094</td>\n",
       "      <td>1.000000</td>\n",
       "    </tr>\n",
       "  </tbody>\n",
       "</table>\n",
       "</div>"
      ],
      "text/plain": [
       "          0         1         2         3         4         5\n",
       "0  1.000000  0.706308  0.783787  0.305357  0.687429 -0.005379\n",
       "1  0.706308  1.000000  0.844652  0.152517  0.224206  0.042829\n",
       "2  0.783787  0.844652  1.000000  0.310272  0.393614  0.209652\n",
       "3  0.305357  0.152517  0.310272  1.000000  0.669840  0.840111\n",
       "4  0.687429  0.224206  0.393614  0.669840  1.000000  0.525094\n",
       "5 -0.005379  0.042829  0.209652  0.840111  0.525094  1.000000"
      ]
     },
     "execution_count": 170,
     "metadata": {},
     "output_type": "execute_result"
    }
   ],
   "source": [
    "corrMatrix"
   ]
  },
  {
   "cell_type": "code",
   "execution_count": 171,
   "metadata": {},
   "outputs": [],
   "source": [
    "corrMatrix=corrMatrix.set_index(data.index)"
   ]
  },
  {
   "cell_type": "code",
   "execution_count": 172,
   "metadata": {},
   "outputs": [],
   "source": [
    "corrMatrix.columns=data.index"
   ]
  },
  {
   "cell_type": "code",
   "execution_count": 173,
   "metadata": {},
   "outputs": [
    {
     "data": {
      "text/html": [
       "<div>\n",
       "<style scoped>\n",
       "    .dataframe tbody tr th:only-of-type {\n",
       "        vertical-align: middle;\n",
       "    }\n",
       "\n",
       "    .dataframe tbody tr th {\n",
       "        vertical-align: top;\n",
       "    }\n",
       "\n",
       "    .dataframe thead th {\n",
       "        text-align: right;\n",
       "    }\n",
       "</style>\n",
       "<table border=\"1\" class=\"dataframe\">\n",
       "  <thead>\n",
       "    <tr style=\"text-align: right;\">\n",
       "      <th></th>\n",
       "      <th>action1</th>\n",
       "      <th>action2</th>\n",
       "      <th>action3</th>\n",
       "      <th>romantic1</th>\n",
       "      <th>romantic2</th>\n",
       "      <th>romantic3</th>\n",
       "    </tr>\n",
       "  </thead>\n",
       "  <tbody>\n",
       "    <tr>\n",
       "      <td>action1</td>\n",
       "      <td>1.000000</td>\n",
       "      <td>0.706308</td>\n",
       "      <td>0.783787</td>\n",
       "      <td>0.305357</td>\n",
       "      <td>0.687429</td>\n",
       "      <td>-0.005379</td>\n",
       "    </tr>\n",
       "    <tr>\n",
       "      <td>action2</td>\n",
       "      <td>0.706308</td>\n",
       "      <td>1.000000</td>\n",
       "      <td>0.844652</td>\n",
       "      <td>0.152517</td>\n",
       "      <td>0.224206</td>\n",
       "      <td>0.042829</td>\n",
       "    </tr>\n",
       "    <tr>\n",
       "      <td>action3</td>\n",
       "      <td>0.783787</td>\n",
       "      <td>0.844652</td>\n",
       "      <td>1.000000</td>\n",
       "      <td>0.310272</td>\n",
       "      <td>0.393614</td>\n",
       "      <td>0.209652</td>\n",
       "    </tr>\n",
       "    <tr>\n",
       "      <td>romantic1</td>\n",
       "      <td>0.305357</td>\n",
       "      <td>0.152517</td>\n",
       "      <td>0.310272</td>\n",
       "      <td>1.000000</td>\n",
       "      <td>0.669840</td>\n",
       "      <td>0.840111</td>\n",
       "    </tr>\n",
       "    <tr>\n",
       "      <td>romantic2</td>\n",
       "      <td>0.687429</td>\n",
       "      <td>0.224206</td>\n",
       "      <td>0.393614</td>\n",
       "      <td>0.669840</td>\n",
       "      <td>1.000000</td>\n",
       "      <td>0.525094</td>\n",
       "    </tr>\n",
       "    <tr>\n",
       "      <td>romantic3</td>\n",
       "      <td>-0.005379</td>\n",
       "      <td>0.042829</td>\n",
       "      <td>0.209652</td>\n",
       "      <td>0.840111</td>\n",
       "      <td>0.525094</td>\n",
       "      <td>1.000000</td>\n",
       "    </tr>\n",
       "  </tbody>\n",
       "</table>\n",
       "</div>"
      ],
      "text/plain": [
       "            action1   action2   action3  romantic1  romantic2  romantic3\n",
       "action1    1.000000  0.706308  0.783787   0.305357   0.687429  -0.005379\n",
       "action2    0.706308  1.000000  0.844652   0.152517   0.224206   0.042829\n",
       "action3    0.783787  0.844652  1.000000   0.310272   0.393614   0.209652\n",
       "romantic1  0.305357  0.152517  0.310272   1.000000   0.669840   0.840111\n",
       "romantic2  0.687429  0.224206  0.393614   0.669840   1.000000   0.525094\n",
       "romantic3 -0.005379  0.042829  0.209652   0.840111   0.525094   1.000000"
      ]
     },
     "execution_count": 173,
     "metadata": {},
     "output_type": "execute_result"
    }
   ],
   "source": [
    "corrMatrix"
   ]
  },
  {
   "cell_type": "code",
   "execution_count": 174,
   "metadata": {},
   "outputs": [],
   "source": [
    "def get_similar_movies(movie_name,rating):\n",
    "    relevant_movies=corrMatrix[movie_name]\n",
    "    if rating>2.5:\n",
    "        relevant_movies=corrMatrix[movie_name]\n",
    "    else:\n",
    "        relevant_movies=corrMatrix[movie_name]*(-1)\n",
    "        \n",
    "    return relevant_movies.sort_values(ascending=False)"
   ]
  },
  {
   "cell_type": "code",
   "execution_count": 175,
   "metadata": {},
   "outputs": [
    {
     "data": {
      "text/plain": [
       "action1      1.000000\n",
       "action3      0.783787\n",
       "action2      0.706308\n",
       "romantic2    0.687429\n",
       "romantic1    0.305357\n",
       "romantic3   -0.005379\n",
       "Name: action1, dtype: float64"
      ]
     },
     "execution_count": 175,
     "metadata": {},
     "output_type": "execute_result"
    }
   ],
   "source": [
    "get_similar_movies('action1',5)"
   ]
  },
  {
   "cell_type": "code",
   "execution_count": 178,
   "metadata": {},
   "outputs": [
    {
     "name": "stdout",
     "output_type": "stream",
     "text": [
      "   action1   action2   action3  romantic1  romantic2  romantic3\n",
      "0      1.0  0.706308  0.783787   0.305357   0.687429  -0.005379\n",
      "    action1   action2   action3  romantic1  romantic2  romantic3\n",
      "0  1.000000  0.706308  0.783787   0.305357   0.687429  -0.005379\n",
      "1 -0.687429 -0.224206 -0.393614  -0.669840  -1.000000  -0.525094\n",
      "    action1   action2   action3  romantic1  romantic2  romantic3\n",
      "0  1.000000  0.706308  0.783787   0.305357   0.687429  -0.005379\n",
      "1 -0.687429 -0.224206 -0.393614  -0.669840  -1.000000  -0.525094\n",
      "2  0.005379 -0.042829 -0.209652  -0.840111  -0.525094  -1.000000\n"
     ]
    }
   ],
   "source": [
    "action_lover = [(\"action1\",5),(\"romantic2\",1),(\"romantic3\",1)]\n",
    "similar_scores = pd.DataFrame()\n",
    "for movie,rating in action_lover:\n",
    "    similar_scores = similar_scores.append(get_similar_movies(movie,rating),ignore_index = True)\n",
    "    print(similar_scores)"
   ]
  },
  {
   "cell_type": "code",
   "execution_count": null,
   "metadata": {},
   "outputs": [],
   "source": []
  }
 ],
 "metadata": {
  "kernelspec": {
   "display_name": "Python 3",
   "language": "python",
   "name": "python3"
  },
  "language_info": {
   "codemirror_mode": {
    "name": "ipython",
    "version": 3
   },
   "file_extension": ".py",
   "mimetype": "text/x-python",
   "name": "python",
   "nbconvert_exporter": "python",
   "pygments_lexer": "ipython3",
   "version": "3.7.4"
  }
 },
 "nbformat": 4,
 "nbformat_minor": 2
}
